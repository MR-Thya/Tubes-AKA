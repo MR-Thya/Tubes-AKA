{
  "nbformat": 4,
  "nbformat_minor": 0,
  "metadata": {
    "colab": {
      "provenance": []
    },
    "kernelspec": {
      "name": "python3",
      "display_name": "Python 3"
    },
    "language_info": {
      "name": "python"
    }
  },
  "cells": [
    {
      "cell_type": "code",
      "source": [
        "import pandas as pd\n",
        "\n",
        "dataset = pd.read_csv('dataset_tubes_aka.csv')\n",
        "dataset.head(), dataset.info()"
      ],
      "metadata": {
        "colab": {
          "base_uri": "https://localhost:8080/"
        },
        "id": "yK3LQneRc-16",
        "outputId": "3c2e7ae1-4ce2-48cf-f0e1-957f2f97ef2f"
      },
      "execution_count": null,
      "outputs": [
        {
          "output_type": "stream",
          "name": "stdout",
          "text": [
            "<class 'pandas.core.frame.DataFrame'>\n",
            "RangeIndex: 349 entries, 0 to 348\n",
            "Data columns (total 8 columns):\n",
            " #   Column       Non-Null Count  Dtype  \n",
            "---  ------       --------------  -----  \n",
            " 0   InvoiceNo    349 non-null    object \n",
            " 1   StockCode    349 non-null    object \n",
            " 2   Description  349 non-null    object \n",
            " 3   Quantity     349 non-null    int64  \n",
            " 4   InvoiceDate  349 non-null    object \n",
            " 5   UnitPrice    349 non-null    float64\n",
            " 6   CustomerID   349 non-null    int64  \n",
            " 7   Country      349 non-null    object \n",
            "dtypes: float64(1), int64(2), object(5)\n",
            "memory usage: 21.9+ KB\n"
          ]
        },
        {
          "output_type": "execute_result",
          "data": {
            "text/plain": [
              "(  InvoiceNo StockCode                          Description  Quantity  \\\n",
              " 0    536365    85123A   WHITE HANGING HEART T-LIGHT HOLDER         6   \n",
              " 1    536365     71053                  WHITE METAL LANTERN         6   \n",
              " 2    536365    84406B       CREAM CUPID HEARTS COAT HANGER         8   \n",
              " 3    536365    84029G  KNITTED UNION FLAG HOT WATER BOTTLE         6   \n",
              " 4    536365    84029E       RED WOOLLY HOTTIE WHITE HEART.         6   \n",
              " \n",
              "       InvoiceDate  UnitPrice  CustomerID         Country  \n",
              " 0  12/1/2010 8:26       2.55       17850  United Kingdom  \n",
              " 1  12/1/2010 8:26       3.39       17850  United Kingdom  \n",
              " 2  12/1/2010 8:26       2.75       17850  United Kingdom  \n",
              " 3  12/1/2010 8:26       3.39       17850  United Kingdom  \n",
              " 4  12/1/2010 8:26       3.39       17850  United Kingdom  ,\n",
              " None)"
            ]
          },
          "metadata": {},
          "execution_count": 20
        }
      ]
    },
    {
      "cell_type": "code",
      "source": [
        "from google.colab import files\n",
        "uploaded = files.upload()"
      ],
      "metadata": {
        "colab": {
          "base_uri": "https://localhost:8080/",
          "height": 73
        },
        "id": "kPPTE2L_Xf_w",
        "outputId": "14d70af5-9213-45b1-88ac-ab8678c62afd"
      },
      "execution_count": null,
      "outputs": [
        {
          "output_type": "display_data",
          "data": {
            "text/plain": [
              "<IPython.core.display.HTML object>"
            ],
            "text/html": [
              "\n",
              "     <input type=\"file\" id=\"files-a37b95f0-a9d3-4d2b-9610-200d303453e5\" name=\"files[]\" multiple disabled\n",
              "        style=\"border:none\" />\n",
              "     <output id=\"result-a37b95f0-a9d3-4d2b-9610-200d303453e5\">\n",
              "      Upload widget is only available when the cell has been executed in the\n",
              "      current browser session. Please rerun this cell to enable.\n",
              "      </output>\n",
              "      <script>// Copyright 2017 Google LLC\n",
              "//\n",
              "// Licensed under the Apache License, Version 2.0 (the \"License\");\n",
              "// you may not use this file except in compliance with the License.\n",
              "// You may obtain a copy of the License at\n",
              "//\n",
              "//      http://www.apache.org/licenses/LICENSE-2.0\n",
              "//\n",
              "// Unless required by applicable law or agreed to in writing, software\n",
              "// distributed under the License is distributed on an \"AS IS\" BASIS,\n",
              "// WITHOUT WARRANTIES OR CONDITIONS OF ANY KIND, either express or implied.\n",
              "// See the License for the specific language governing permissions and\n",
              "// limitations under the License.\n",
              "\n",
              "/**\n",
              " * @fileoverview Helpers for google.colab Python module.\n",
              " */\n",
              "(function(scope) {\n",
              "function span(text, styleAttributes = {}) {\n",
              "  const element = document.createElement('span');\n",
              "  element.textContent = text;\n",
              "  for (const key of Object.keys(styleAttributes)) {\n",
              "    element.style[key] = styleAttributes[key];\n",
              "  }\n",
              "  return element;\n",
              "}\n",
              "\n",
              "// Max number of bytes which will be uploaded at a time.\n",
              "const MAX_PAYLOAD_SIZE = 100 * 1024;\n",
              "\n",
              "function _uploadFiles(inputId, outputId) {\n",
              "  const steps = uploadFilesStep(inputId, outputId);\n",
              "  const outputElement = document.getElementById(outputId);\n",
              "  // Cache steps on the outputElement to make it available for the next call\n",
              "  // to uploadFilesContinue from Python.\n",
              "  outputElement.steps = steps;\n",
              "\n",
              "  return _uploadFilesContinue(outputId);\n",
              "}\n",
              "\n",
              "// This is roughly an async generator (not supported in the browser yet),\n",
              "// where there are multiple asynchronous steps and the Python side is going\n",
              "// to poll for completion of each step.\n",
              "// This uses a Promise to block the python side on completion of each step,\n",
              "// then passes the result of the previous step as the input to the next step.\n",
              "function _uploadFilesContinue(outputId) {\n",
              "  const outputElement = document.getElementById(outputId);\n",
              "  const steps = outputElement.steps;\n",
              "\n",
              "  const next = steps.next(outputElement.lastPromiseValue);\n",
              "  return Promise.resolve(next.value.promise).then((value) => {\n",
              "    // Cache the last promise value to make it available to the next\n",
              "    // step of the generator.\n",
              "    outputElement.lastPromiseValue = value;\n",
              "    return next.value.response;\n",
              "  });\n",
              "}\n",
              "\n",
              "/**\n",
              " * Generator function which is called between each async step of the upload\n",
              " * process.\n",
              " * @param {string} inputId Element ID of the input file picker element.\n",
              " * @param {string} outputId Element ID of the output display.\n",
              " * @return {!Iterable<!Object>} Iterable of next steps.\n",
              " */\n",
              "function* uploadFilesStep(inputId, outputId) {\n",
              "  const inputElement = document.getElementById(inputId);\n",
              "  inputElement.disabled = false;\n",
              "\n",
              "  const outputElement = document.getElementById(outputId);\n",
              "  outputElement.innerHTML = '';\n",
              "\n",
              "  const pickedPromise = new Promise((resolve) => {\n",
              "    inputElement.addEventListener('change', (e) => {\n",
              "      resolve(e.target.files);\n",
              "    });\n",
              "  });\n",
              "\n",
              "  const cancel = document.createElement('button');\n",
              "  inputElement.parentElement.appendChild(cancel);\n",
              "  cancel.textContent = 'Cancel upload';\n",
              "  const cancelPromise = new Promise((resolve) => {\n",
              "    cancel.onclick = () => {\n",
              "      resolve(null);\n",
              "    };\n",
              "  });\n",
              "\n",
              "  // Wait for the user to pick the files.\n",
              "  const files = yield {\n",
              "    promise: Promise.race([pickedPromise, cancelPromise]),\n",
              "    response: {\n",
              "      action: 'starting',\n",
              "    }\n",
              "  };\n",
              "\n",
              "  cancel.remove();\n",
              "\n",
              "  // Disable the input element since further picks are not allowed.\n",
              "  inputElement.disabled = true;\n",
              "\n",
              "  if (!files) {\n",
              "    return {\n",
              "      response: {\n",
              "        action: 'complete',\n",
              "      }\n",
              "    };\n",
              "  }\n",
              "\n",
              "  for (const file of files) {\n",
              "    const li = document.createElement('li');\n",
              "    li.append(span(file.name, {fontWeight: 'bold'}));\n",
              "    li.append(span(\n",
              "        `(${file.type || 'n/a'}) - ${file.size} bytes, ` +\n",
              "        `last modified: ${\n",
              "            file.lastModifiedDate ? file.lastModifiedDate.toLocaleDateString() :\n",
              "                                    'n/a'} - `));\n",
              "    const percent = span('0% done');\n",
              "    li.appendChild(percent);\n",
              "\n",
              "    outputElement.appendChild(li);\n",
              "\n",
              "    const fileDataPromise = new Promise((resolve) => {\n",
              "      const reader = new FileReader();\n",
              "      reader.onload = (e) => {\n",
              "        resolve(e.target.result);\n",
              "      };\n",
              "      reader.readAsArrayBuffer(file);\n",
              "    });\n",
              "    // Wait for the data to be ready.\n",
              "    let fileData = yield {\n",
              "      promise: fileDataPromise,\n",
              "      response: {\n",
              "        action: 'continue',\n",
              "      }\n",
              "    };\n",
              "\n",
              "    // Use a chunked sending to avoid message size limits. See b/62115660.\n",
              "    let position = 0;\n",
              "    do {\n",
              "      const length = Math.min(fileData.byteLength - position, MAX_PAYLOAD_SIZE);\n",
              "      const chunk = new Uint8Array(fileData, position, length);\n",
              "      position += length;\n",
              "\n",
              "      const base64 = btoa(String.fromCharCode.apply(null, chunk));\n",
              "      yield {\n",
              "        response: {\n",
              "          action: 'append',\n",
              "          file: file.name,\n",
              "          data: base64,\n",
              "        },\n",
              "      };\n",
              "\n",
              "      let percentDone = fileData.byteLength === 0 ?\n",
              "          100 :\n",
              "          Math.round((position / fileData.byteLength) * 100);\n",
              "      percent.textContent = `${percentDone}% done`;\n",
              "\n",
              "    } while (position < fileData.byteLength);\n",
              "  }\n",
              "\n",
              "  // All done.\n",
              "  yield {\n",
              "    response: {\n",
              "      action: 'complete',\n",
              "    }\n",
              "  };\n",
              "}\n",
              "\n",
              "scope.google = scope.google || {};\n",
              "scope.google.colab = scope.google.colab || {};\n",
              "scope.google.colab._files = {\n",
              "  _uploadFiles,\n",
              "  _uploadFilesContinue,\n",
              "};\n",
              "})(self);\n",
              "</script> "
            ]
          },
          "metadata": {}
        },
        {
          "output_type": "stream",
          "name": "stdout",
          "text": [
            "Saving dataset_tubes_aka.csv to dataset_tubes_aka.csv\n"
          ]
        }
      ]
    },
    {
      "cell_type": "code",
      "execution_count": null,
      "metadata": {
        "id": "GUla04MjJ8bl",
        "colab": {
          "base_uri": "https://localhost:8080/"
        },
        "outputId": "b85989eb-fed1-4324-8e1f-ed907e818b98"
      },
      "outputs": [
        {
          "output_type": "execute_result",
          "data": {
            "text/plain": [
              "[-24, -24, -24, -24, -12, -12, -12, -1, -1, 1, 1, 1, 1, 1, 1, 1, 1, 1, 1, 1]"
            ]
          },
          "metadata": {},
          "execution_count": 21
        }
      ],
      "source": [
        "list_iteratif = dataset['Quantity'].tolist()\n",
        "\n",
        "# Iteratif Insertion Sort\n",
        "def insertion_sort(arr):\n",
        "    for i in range(1, len(arr)):\n",
        "        key = arr[i]\n",
        "        j = i - 1\n",
        "        while j >= 0 and arr[j] > key:\n",
        "            arr[j + 1] = arr[j]\n",
        "            j -= 1\n",
        "        arr[j + 1] = key\n",
        "    return arr\n",
        "\n",
        "sorted_iteratif = insertion_sort(list_iteratif)\n",
        "sorted_iteratif[:20]\n"
      ]
    },
    {
      "cell_type": "code",
      "source": [
        "list_rekursif = dataset['Quantity'].tolist()\n",
        "\n",
        "# Recursif Insertion Sort\n",
        "def insertion_sort_rekursif(arr, n=None):\n",
        "    if n is None:\n",
        "        n = len(arr)\n",
        "\n",
        "    if n <= 1:\n",
        "        return\n",
        "\n",
        "    insertion_sort_rekursif(arr, n-1)\n",
        "\n",
        "    key = arr[n-1]\n",
        "    j = n-2\n",
        "    while j >= 0 and arr[j] > key:\n",
        "        arr[j + 1] = arr[j]\n",
        "        j -= 1\n",
        "    arr[j + 1] = key\n",
        "    return arr\n",
        "\n",
        "sorted_rekursif = insertion_sort_rekursif(list_rekursif)\n",
        "sorted_rekursif[:20]"
      ],
      "metadata": {
        "colab": {
          "base_uri": "https://localhost:8080/"
        },
        "id": "9_n7mEdkduy-",
        "outputId": "fca11a84-25f2-4aa2-a205-6e75e3a9c2fc"
      },
      "execution_count": null,
      "outputs": [
        {
          "output_type": "execute_result",
          "data": {
            "text/plain": [
              "[-24, -24, -24, -24, -12, -12, -12, -1, -1, 1, 1, 1, 1, 1, 1, 1, 1, 1, 1, 1]"
            ]
          },
          "metadata": {},
          "execution_count": 22
        }
      ]
    },
    {
      "cell_type": "code",
      "source": [
        "list_iteratif_merge = dataset['Quantity'].tolist()\n",
        "\n",
        "# Iteratif Merge Sort\n",
        "def merge_sort(arr):\n",
        "    n = len(arr)\n",
        "\n",
        "    size = 1\n",
        "    while size <= n - 1:\n",
        "        left_start = 0\n",
        "\n",
        "        while left_start < n - 1:\n",
        "            mid = min(left_start + size - 1, n - 1)\n",
        "            right_end = min(left_start + 2 * size - 1, n - 1)\n",
        "\n",
        "            if mid < right_end:\n",
        "                n1 = mid - left_start + 1\n",
        "                n2 = right_end - mid\n",
        "\n",
        "                left_arr = [0] * n1\n",
        "                right_arr = [0] * n2\n",
        "\n",
        "                for i in range(n1):\n",
        "                    left_arr[i] = arr[left_start + i]\n",
        "\n",
        "                for i in range(n2):\n",
        "                    right_arr[i] = arr[mid + 1 + i]\n",
        "\n",
        "                i = j = 0\n",
        "                k = left_start\n",
        "\n",
        "                while i < n1 and j < n2:\n",
        "                    if left_arr[i] <= right_arr[j]:\n",
        "                        arr[k] = left_arr[i]\n",
        "                        i += 1\n",
        "                    else:\n",
        "                        arr[k] = right_arr[j]\n",
        "                        j += 1\n",
        "                    k += 1\n",
        "\n",
        "                while i < n1:\n",
        "                    arr[k] = left_arr[i]\n",
        "                    i += 1\n",
        "                    k += 1\n",
        "\n",
        "                while j < n2:\n",
        "                    arr[k] = right_arr[j]\n",
        "                    j += 1\n",
        "                    k += 1\n",
        "\n",
        "            left_start += 2 * size\n",
        "        size *= 2\n",
        "    return arr\n",
        "\n",
        "sorted_iteratif_merge = merge_sort(list_iteratif_merge)\n",
        "sorted_iteratif_merge[:20]"
      ],
      "metadata": {
        "colab": {
          "base_uri": "https://localhost:8080/"
        },
        "id": "tyuGyrw7ejwg",
        "outputId": "fbfed65c-4213-450f-d000-103dffeedb26"
      },
      "execution_count": null,
      "outputs": [
        {
          "output_type": "execute_result",
          "data": {
            "text/plain": [
              "[-24, -24, -24, -24, -12, -12, -12, -1, -1, 1, 1, 1, 1, 1, 1, 1, 1, 1, 1, 1]"
            ]
          },
          "metadata": {},
          "execution_count": 23
        }
      ]
    },
    {
      "cell_type": "code",
      "source": [
        "list_rekursif_merge = dataset['Quantity'].tolist()\n",
        "\n",
        "# Recursif Merge Sort\n",
        "def merge_sort_rekursif(arr, left=None, right=None):\n",
        "    if left is None:\n",
        "        left = 0\n",
        "    if right is None:\n",
        "        right = len(arr) - 1\n",
        "\n",
        "    if left < right:\n",
        "        mid = left + (right - left) // 2\n",
        "\n",
        "        merge_sort_rekursif(arr, left, mid)\n",
        "        merge_sort_rekursif(arr, mid + 1, right)\n",
        "\n",
        "        n1 = mid - left + 1\n",
        "        n2 = right - mid\n",
        "\n",
        "        left_arr = [0] * n1\n",
        "        right_arr = [0] * n2\n",
        "\n",
        "        for i in range(n1):\n",
        "            left_arr[i] = arr[left + i]\n",
        "\n",
        "        for i in range(n2):\n",
        "            right_arr[i] = arr[mid + 1 + i]\n",
        "\n",
        "        i = j = 0\n",
        "        k = left\n",
        "\n",
        "        while i < n1 and j < n2:\n",
        "            if left_arr[i] <= right_arr[j]:\n",
        "                arr[k] = left_arr[i]\n",
        "                i += 1\n",
        "            else:\n",
        "                arr[k] = right_arr[j]\n",
        "                j += 1\n",
        "            k += 1\n",
        "\n",
        "        while i < n1:\n",
        "            arr[k] = left_arr[i]\n",
        "            i += 1\n",
        "            k += 1\n",
        "\n",
        "        while j < n2:\n",
        "            arr[k] = right_arr[j]\n",
        "            j += 1\n",
        "            k += 1\n",
        "    return arr\n",
        "\n",
        "sorted_rekursif_merge = merge_sort_rekursif(list_rekursif_merge)\n",
        "sorted_rekursif_merge[:20]"
      ],
      "metadata": {
        "colab": {
          "base_uri": "https://localhost:8080/"
        },
        "id": "dqJjJUnBfWcX",
        "outputId": "616dc14f-9391-4d1a-c398-8dfb09e53d8e"
      },
      "execution_count": null,
      "outputs": [
        {
          "output_type": "execute_result",
          "data": {
            "text/plain": [
              "[-24, -24, -24, -24, -12, -12, -12, -1, -1, 1, 1, 1, 1, 1, 1, 1, 1, 1, 1, 1]"
            ]
          },
          "metadata": {},
          "execution_count": 24
        }
      ]
    },
    {
      "cell_type": "code",
      "source": [
        "import time\n",
        "import matplotlib.pyplot as plt\n",
        "\n",
        "def measure_execution_time(sort_func, data, *args, **kwargs):\n",
        "  start_time = time.time()\n",
        "  result = sort_func(data.copy(), *args, **kwargs)\n",
        "  end_time = time.time()\n",
        "  return result, end_time - start_time\n",
        "\n",
        "# Mengukur waktu eksekusi\n",
        "_, time_iterative_insertion = measure_execution_time(insertion_sort, list_iteratif)\n",
        "_, time_recursive_insertion = measure_execution_time(insertion_sort_rekursif, list_rekursif, len(list_rekursif))\n",
        "_, time_iterative_merge = measure_execution_time(merge_sort, list_iteratif_merge)\n",
        "_, time_recursive_merge = measure_execution_time(merge_sort_rekursif, list_rekursif_merge)\n",
        "\n",
        "# Menampilkan hasil waktu eksekusi\n",
        "print(f\"Waktu eksekusi:\")\n",
        "print(f\"Iterative Insertion Sort: {time_iterative_insertion:.6f} detik\")\n",
        "print(f\"Recursive Insertion Sort: {time_recursive_insertion:.6f} detik\")\n",
        "print(f\"Iterative Merge Sort: {time_iterative_merge:.6f} detik\")\n",
        "print(f\"Recursive Merge Sort: {time_recursive_merge:.6f} detik\")"
      ],
      "metadata": {
        "colab": {
          "base_uri": "https://localhost:8080/"
        },
        "id": "vzwmvHQ0itNn",
        "outputId": "3b41b336-3160-4776-b693-64eb85cd0b08"
      },
      "execution_count": null,
      "outputs": [
        {
          "output_type": "stream",
          "name": "stdout",
          "text": [
            "Waktu eksekusi:\n",
            "Iterative Insertion Sort: 0.000104 detik\n",
            "Recursive Insertion Sort: 0.000196 detik\n",
            "Iterative Merge Sort: 0.001336 detik\n",
            "Recursive Merge Sort: 0.001222 detik\n"
          ]
        }
      ]
    },
    {
      "cell_type": "code",
      "source": [
        "# Visualisasi dengan diagram garis\n",
        "methods = [\n",
        "    'Iterative Insertion Sort',\n",
        "    'Recursive Insertion Sort',\n",
        "    'Iterative Merge Sort',\n",
        "    'Recursive Merge Sort'\n",
        "]\n",
        "times = [\n",
        "    time_iterative_insertion,\n",
        "    time_recursive_insertion,\n",
        "    time_iterative_merge,\n",
        "    time_recursive_merge\n",
        "]\n",
        "\n",
        "plt.figure(figsize=(10, 6))\n",
        "plt.plot(methods, times, marker='o', linestyle='-', color='blue', label='Execution Time')\n",
        "plt.title('Comparison of Execution Times for Sorting Algorithms')\n",
        "plt.xlabel('Sorting Methods')\n",
        "plt.ylabel('Execution Time (seconds)')\n",
        "plt.grid(True)\n",
        "plt.legend()\n",
        "plt.tight_layout()\n",
        "plt.show()"
      ],
      "metadata": {
        "colab": {
          "base_uri": "https://localhost:8080/",
          "height": 607
        },
        "id": "vkZADK1oPQC3",
        "outputId": "254e62e2-6f67-4c1a-acb0-adbaf185ea82"
      },
      "execution_count": null,
      "outputs": [
        {
          "output_type": "display_data",
          "data": {
            "text/plain": [
              "<Figure size 1000x600 with 1 Axes>"
            ],
            "image/png": "[encoded data removed]"
          },
          "metadata": {}
        }
      ]
    }
  ]
}